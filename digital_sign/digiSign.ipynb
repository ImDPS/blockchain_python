{
 "cells": [
  {
   "cell_type": "code",
   "execution_count": 7,
   "metadata": {},
   "outputs": [],
   "source": [
    "# import crypto\n",
    "from Crypto.PublicKey import RSA\n",
    "from Crypto.Signature import PKCS1_v1_5\n",
    "from Crypto.Hash import SHA256\n",
    "\n",
    "import sys\n",
    "# sys.modules['Crypto'] = crypto\n",
    "import pandas as pd\n",
    "# RSA = crypto.PublicKey.RSA\n",
    "# PKCS1_v1_5 = crypto.Signature.PKCS1_v1_5\n",
    "# SHA256 = crypto.Hash.SHA256\n",
    "# SHA = crypto.Hash.SHA"
   ]
  },
  {
   "cell_type": "code",
   "execution_count": 8,
   "metadata": {},
   "outputs": [],
   "source": [
    "def rsakeys(key_size=1024):  \n",
    "     key_size=1024  \n",
    "     privateKey = RSA.generate(key_size)  \n",
    "     publickey = privateKey.publickey()  \n",
    "     return privateKey, publickey"
   ]
  },
  {
   "cell_type": "code",
   "execution_count": 9,
   "metadata": {},
   "outputs": [],
   "source": [
    "def sign(message, privateKey):\n",
    "    # if hash_algorithm == 'SHA-256':\n",
    "    hash_obj = SHA256.new(message)\n",
    "    return PKCS1_v1_5.new(privateKey).sign(hash_obj)\n",
    "\n",
    "def verify(message, signature, publicKey):\n",
    "    hash_obj = SHA256.new(message)\n",
    "    return PKCS1_v1_5.new(publicKey).verify(hash_obj, signature)"
   ]
  },
  {
   "cell_type": "code",
   "execution_count": 10,
   "metadata": {},
   "outputs": [],
   "source": [
    "farmerName = input(\"Enter farmer name: \")\n",
    "farmerAge = input(\"Enter farmer age: \")\n",
    "farmerAddress = input(\"Enter farmer address: \")\n",
    "farmerPhone = input(\"Enter farmer phone: \")\n",
    "farmerEmail = input(\"Enter farmer email: \")\n",
    "farmerPassword = input(\"Enter farmer password: \")\n"
   ]
  },
  {
   "cell_type": "code",
   "execution_count": 11,
   "metadata": {},
   "outputs": [
    {
     "name": "stderr",
     "output_type": "stream",
     "text": [
      "C:\\Users\\AM Parial\\AppData\\Local\\Temp\\ipykernel_18976\\235582394.py:2: FutureWarning: The frame.append method is deprecated and will be removed from pandas in a future version. Use pandas.concat instead.\n",
      "  farmerDf = farmerDf.append({'farmerName': farmerName, 'farmerAge': farmerAge, 'farmerAddress': farmerAddress, 'farmerPhone': farmerPhone, 'farmerEmail': farmerEmail, 'farmerPassword': farmerPassword}, ignore_index=True)\n"
     ]
    }
   ],
   "source": [
    "farmerDf = pd.DataFrame(columns=['farmerName', 'farmerAge', 'farmerAddress', 'farmerPhone', 'farmerEmail', 'farmerPassword'])\n",
    "farmerDf = farmerDf.append({'farmerName': farmerName, 'farmerAge': farmerAge, 'farmerAddress': farmerAddress, 'farmerPhone': farmerPhone, 'farmerEmail': farmerEmail, 'farmerPassword': farmerPassword}, ignore_index=True)\n"
   ]
  },
  {
   "cell_type": "code",
   "execution_count": 12,
   "metadata": {},
   "outputs": [
    {
     "data": {
      "text/html": [
       "<div>\n",
       "<style scoped>\n",
       "    .dataframe tbody tr th:only-of-type {\n",
       "        vertical-align: middle;\n",
       "    }\n",
       "\n",
       "    .dataframe tbody tr th {\n",
       "        vertical-align: top;\n",
       "    }\n",
       "\n",
       "    .dataframe thead th {\n",
       "        text-align: right;\n",
       "    }\n",
       "</style>\n",
       "<table border=\"1\" class=\"dataframe\">\n",
       "  <thead>\n",
       "    <tr style=\"text-align: right;\">\n",
       "      <th></th>\n",
       "      <th>farmerName</th>\n",
       "      <th>farmerAge</th>\n",
       "      <th>farmerAddress</th>\n",
       "      <th>farmerPhone</th>\n",
       "      <th>farmerEmail</th>\n",
       "      <th>farmerPassword</th>\n",
       "    </tr>\n",
       "  </thead>\n",
       "  <tbody>\n",
       "    <tr>\n",
       "      <th>0</th>\n",
       "      <td>Ram</td>\n",
       "      <td>23</td>\n",
       "      <td>Address</td>\n",
       "      <td>9291919191</td>\n",
       "      <td>iii@gmail.com</td>\n",
       "      <td>Password</td>\n",
       "    </tr>\n",
       "  </tbody>\n",
       "</table>\n",
       "</div>"
      ],
      "text/plain": [
       "  farmerName farmerAge farmerAddress farmerPhone    farmerEmail farmerPassword\n",
       "0        Ram        23       Address  9291919191  iii@gmail.com       Password"
      ]
     },
     "execution_count": 12,
     "metadata": {},
     "output_type": "execute_result"
    }
   ],
   "source": [
    "farmerDf"
   ]
  },
  {
   "cell_type": "code",
   "execution_count": 13,
   "metadata": {},
   "outputs": [
    {
     "name": "stderr",
     "output_type": "stream",
     "text": [
      "C:\\Users\\AM Parial\\AppData\\Local\\Temp\\ipykernel_18976\\1245725724.py:2: FutureWarning: The frame.append method is deprecated and will be removed from pandas in a future version. Use pandas.concat instead.\n",
      "  farmerDf.append(farmerDf.iloc[0])\n"
     ]
    },
    {
     "data": {
      "text/html": [
       "<div>\n",
       "<style scoped>\n",
       "    .dataframe tbody tr th:only-of-type {\n",
       "        vertical-align: middle;\n",
       "    }\n",
       "\n",
       "    .dataframe tbody tr th {\n",
       "        vertical-align: top;\n",
       "    }\n",
       "\n",
       "    .dataframe thead th {\n",
       "        text-align: right;\n",
       "    }\n",
       "</style>\n",
       "<table border=\"1\" class=\"dataframe\">\n",
       "  <thead>\n",
       "    <tr style=\"text-align: right;\">\n",
       "      <th></th>\n",
       "      <th>farmerName</th>\n",
       "      <th>farmerAge</th>\n",
       "      <th>farmerAddress</th>\n",
       "      <th>farmerPhone</th>\n",
       "      <th>farmerEmail</th>\n",
       "      <th>farmerPassword</th>\n",
       "    </tr>\n",
       "  </thead>\n",
       "  <tbody>\n",
       "    <tr>\n",
       "      <th>0</th>\n",
       "      <td>Ramm</td>\n",
       "      <td>23</td>\n",
       "      <td>Address</td>\n",
       "      <td>9291919191</td>\n",
       "      <td>iii@gmail.com</td>\n",
       "      <td>Password</td>\n",
       "    </tr>\n",
       "  </tbody>\n",
       "</table>\n",
       "</div>"
      ],
      "text/plain": [
       "  farmerName farmerAge farmerAddress farmerPhone    farmerEmail farmerPassword\n",
       "0       Ramm        23       Address  9291919191  iii@gmail.com       Password"
      ]
     },
     "execution_count": 13,
     "metadata": {},
     "output_type": "execute_result"
    }
   ],
   "source": [
    "farmerDf.iloc[0].farmerName = \"Ramm\"\n",
    "farmerDf.append(farmerDf.iloc[0])\n",
    "farmerDf"
   ]
  },
  {
   "cell_type": "code",
   "execution_count": 15,
   "metadata": {},
   "outputs": [
    {
     "name": "stderr",
     "output_type": "stream",
     "text": [
      "C:\\Users\\AM Parial\\AppData\\Local\\Temp\\ipykernel_18976\\1940984964.py:2: FutureWarning: The frame.append method is deprecated and will be removed from pandas in a future version. Use pandas.concat instead.\n",
      "  farmerDf = farmerDf.append({'farmerName': farmerName, 'farmerAge': farmerAge, 'farmerAddress': farmerAddress, 'farmerPhone': farmerPhone, 'farmerEmail': farmerEmail, 'farmerPassword': farmerPassword}, ignore_index=True)\n"
     ]
    }
   ],
   "source": [
    "# add a row\n",
    "farmerDf = farmerDf.append({'farmerName': farmerName, 'farmerAge': farmerAge, 'farmerAddress': farmerAddress, 'farmerPhone': farmerPhone, 'farmerEmail': farmerEmail, 'farmerPassword': farmerPassword}, ignore_index=True)\n"
   ]
  },
  {
   "cell_type": "code",
   "execution_count": 16,
   "metadata": {},
   "outputs": [],
   "source": [
    "farmer_str = str(farmerDf.iloc[1])"
   ]
  },
  {
   "cell_type": "code",
   "execution_count": 17,
   "metadata": {},
   "outputs": [],
   "source": [
    "privateKey, publicKey = rsakeys()\n",
    "\n",
    "# message = farmerDf.iloc[0]\n",
    "message = farmer_str.encode()\n",
    "signature_id = sign(message, privateKey)\n",
    "# print(signature_id)"
   ]
  },
  {
   "cell_type": "code",
   "execution_count": 18,
   "metadata": {},
   "outputs": [
    {
     "name": "stdout",
     "output_type": "stream",
     "text": [
      "Valid Signature:  True\n"
     ]
    }
   ],
   "source": [
    "alt_msg = str(farmerDf.iloc[1]).encode()\n",
    "\n",
    "verify_res = verify(alt_msg, signature_id, publicKey)\n",
    "print(\"Valid Signature: \", verify_res)"
   ]
  },
  {
   "cell_type": "code",
   "execution_count": 19,
   "metadata": {},
   "outputs": [
    {
     "name": "stdout",
     "output_type": "stream",
     "text": [
      "Valid Signature:  False\n"
     ]
    }
   ],
   "source": [
    "alt_msg = str(farmerDf.iloc[0]).encode()\n",
    "\n",
    "verify_res = verify(alt_msg, signature_id, publicKey)\n",
    "print(\"Valid Signature: \", verify_res)"
   ]
  },
  {
   "cell_type": "code",
   "execution_count": 20,
   "metadata": {},
   "outputs": [
    {
     "name": "stdout",
     "output_type": "stream",
     "text": [
      "Public key:  (n=0xa9004d4bf204025a31df131c247d97a41c9e5d82f3f73beffba733133d9303dc5d1e224721df3053bfd159dc58a087ca18a293837f7f9628e50b4f5569b1582f59711717b0f1e7fb0da7e9d268428cbeb0da66f1716148adf07e8abf3345bc2788d020b45d7e5c7ea134439df6ae60283fef11d28a6d8368030727e69d366315, e=0x10001)\n",
      "Private key: (n=0xa9004d4bf204025a31df131c247d97a41c9e5d82f3f73beffba733133d9303dc5d1e224721df3053bfd159dc58a087ca18a293837f7f9628e50b4f5569b1582f59711717b0f1e7fb0da7e9d268428cbeb0da66f1716148adf07e8abf3345bc2788d020b45d7e5c7ea134439df6ae60283fef11d28a6d8368030727e69d366315, d=0x2b5dc177f87d60e12624f8f162c7bb8ec82d370fb06cc3bb9c16d67b5c748a2c14d4f3b4cf13478266196176b2635714dbe773f4ed559f01956ca689e35a37a75bd292c7e70f3fd73bf7ca7fe1fb9e86df5bfbbc69f75c87ccd78b8eaa21b2892ed0c7f87bf97af44ac71844b1ebc030af2439975b47f72dd5cb286aed80fbed)\n"
     ]
    }
   ],
   "source": [
    "keyPair = RSA.generate(bits=1024)\n",
    "print(f\"Public key:  (n={hex(keyPair.n)}, e={hex(keyPair.e)})\")\n",
    "print(f\"Private key: (n={hex(keyPair.n)}, d={hex(keyPair.d)})\")"
   ]
  },
  {
   "cell_type": "code",
   "execution_count": null,
   "metadata": {},
   "outputs": [],
   "source": []
  }
 ],
 "metadata": {
  "interpreter": {
   "hash": "9c58b646aea2539fef524766948474fff33601e3daf6b018c86c6a419d65c072"
  },
  "kernelspec": {
   "display_name": "Python 3.9.4 64-bit ('blockchainVenv': venv)",
   "language": "python",
   "name": "python3"
  },
  "language_info": {
   "codemirror_mode": {
    "name": "ipython",
    "version": 3
   },
   "file_extension": ".py",
   "mimetype": "text/x-python",
   "name": "python",
   "nbconvert_exporter": "python",
   "pygments_lexer": "ipython3",
   "version": "3.9.4"
  },
  "orig_nbformat": 4
 },
 "nbformat": 4,
 "nbformat_minor": 2
}
