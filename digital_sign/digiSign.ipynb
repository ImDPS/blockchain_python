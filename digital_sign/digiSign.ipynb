{
 "cells": [
  {
   "cell_type": "code",
   "execution_count": 2,
   "metadata": {},
   "outputs": [],
   "source": [
    "import crypto\n",
    "import sys\n",
    "sys.modules['Crypto'] = crypto\n",
    "import pandas as pd\n",
    "RSA = crypto.PublicKey.RSA\n",
    "PKCS1_v1_5 = crypto.Signature.PKCS1_v1_5\n",
    "SHA256 = crypto.Hash.SHA256\n",
    "SHA1 = crypto.Hash.SHA1\n",
    "SHA = crypto.Hash.SHA"
   ]
  },
  {
   "cell_type": "code",
   "execution_count": 18,
   "metadata": {},
   "outputs": [],
   "source": [
    "def rsakeys(key_size=1024):  \n",
    "     key_size=1024  \n",
    "     privateKey = RSA.generate(key_size)  \n",
    "     publickey = privateKey.publickey()  \n",
    "     return privateKey, publickey"
   ]
  },
  {
   "cell_type": "code",
   "execution_count": 27,
   "metadata": {},
   "outputs": [],
   "source": [
    "def sign(message, privateKey):\n",
    "    # if hash_algorithm == 'SHA-256':\n",
    "    hash_obj = SHA256.new(message)\n",
    "    return PKCS1_v1_5.new(privateKey).sign(hash_obj)\n",
    "\n",
    "def verify(message, signature, publicKey):\n",
    "    hash_obj = SHA256.new(message)\n",
    "    return PKCS1_v1_5.new(publicKey).verify(hash_obj, signature)"
   ]
  },
  {
   "cell_type": "code",
   "execution_count": 39,
   "metadata": {},
   "outputs": [],
   "source": [
    "farmerName = input(\"Enter farmer name: \")\n",
    "farmerAge = input(\"Enter farmer age: \")\n",
    "farmerAddress = input(\"Enter farmer address: \")\n",
    "farmerPhone = input(\"Enter farmer phone: \")\n",
    "farmerEmail = input(\"Enter farmer email: \")\n",
    "farmerPassword = input(\"Enter farmer password: \")\n"
   ]
  },
  {
   "cell_type": "code",
   "execution_count": 84,
   "metadata": {},
   "outputs": [
    {
     "name": "stderr",
     "output_type": "stream",
     "text": [
      "C:\\Users\\AM Parial\\AppData\\Local\\Temp\\ipykernel_13740\\235582394.py:2: FutureWarning: The frame.append method is deprecated and will be removed from pandas in a future version. Use pandas.concat instead.\n",
      "  farmerDf = farmerDf.append({'farmerName': farmerName, 'farmerAge': farmerAge, 'farmerAddress': farmerAddress, 'farmerPhone': farmerPhone, 'farmerEmail': farmerEmail, 'farmerPassword': farmerPassword}, ignore_index=True)\n"
     ]
    }
   ],
   "source": [
    "farmerDf = pd.DataFrame(columns=['farmerName', 'farmerAge', 'farmerAddress', 'farmerPhone', 'farmerEmail', 'farmerPassword'])\n",
    "farmerDf = farmerDf.append({'farmerName': farmerName, 'farmerAge': farmerAge, 'farmerAddress': farmerAddress, 'farmerPhone': farmerPhone, 'farmerEmail': farmerEmail, 'farmerPassword': farmerPassword}, ignore_index=True)\n"
   ]
  },
  {
   "cell_type": "code",
   "execution_count": 85,
   "metadata": {},
   "outputs": [
    {
     "data": {
      "text/html": [
       "<div>\n",
       "<style scoped>\n",
       "    .dataframe tbody tr th:only-of-type {\n",
       "        vertical-align: middle;\n",
       "    }\n",
       "\n",
       "    .dataframe tbody tr th {\n",
       "        vertical-align: top;\n",
       "    }\n",
       "\n",
       "    .dataframe thead th {\n",
       "        text-align: right;\n",
       "    }\n",
       "</style>\n",
       "<table border=\"1\" class=\"dataframe\">\n",
       "  <thead>\n",
       "    <tr style=\"text-align: right;\">\n",
       "      <th></th>\n",
       "      <th>farmerName</th>\n",
       "      <th>farmerAge</th>\n",
       "      <th>farmerAddress</th>\n",
       "      <th>farmerPhone</th>\n",
       "      <th>farmerEmail</th>\n",
       "      <th>farmerPassword</th>\n",
       "    </tr>\n",
       "  </thead>\n",
       "  <tbody>\n",
       "    <tr>\n",
       "      <th>0</th>\n",
       "      <td>Ram</td>\n",
       "      <td>23</td>\n",
       "      <td>402</td>\n",
       "      <td>9131706915</td>\n",
       "      <td>iii@gmail.com</td>\n",
       "      <td>pass</td>\n",
       "    </tr>\n",
       "  </tbody>\n",
       "</table>\n",
       "</div>"
      ],
      "text/plain": [
       "  farmerName farmerAge farmerAddress farmerPhone    farmerEmail farmerPassword\n",
       "0        Ram        23           402  9131706915  iii@gmail.com           pass"
      ]
     },
     "execution_count": 85,
     "metadata": {},
     "output_type": "execute_result"
    }
   ],
   "source": [
    "farmerDf"
   ]
  },
  {
   "cell_type": "code",
   "execution_count": 86,
   "metadata": {},
   "outputs": [
    {
     "data": {
      "text/html": [
       "<div>\n",
       "<style scoped>\n",
       "    .dataframe tbody tr th:only-of-type {\n",
       "        vertical-align: middle;\n",
       "    }\n",
       "\n",
       "    .dataframe tbody tr th {\n",
       "        vertical-align: top;\n",
       "    }\n",
       "\n",
       "    .dataframe thead th {\n",
       "        text-align: right;\n",
       "    }\n",
       "</style>\n",
       "<table border=\"1\" class=\"dataframe\">\n",
       "  <thead>\n",
       "    <tr style=\"text-align: right;\">\n",
       "      <th></th>\n",
       "      <th>farmerName</th>\n",
       "      <th>farmerAge</th>\n",
       "      <th>farmerAddress</th>\n",
       "      <th>farmerPhone</th>\n",
       "      <th>farmerEmail</th>\n",
       "      <th>farmerPassword</th>\n",
       "    </tr>\n",
       "  </thead>\n",
       "  <tbody>\n",
       "    <tr>\n",
       "      <th>0</th>\n",
       "      <td>Ramm</td>\n",
       "      <td>23</td>\n",
       "      <td>402</td>\n",
       "      <td>9131706915</td>\n",
       "      <td>iii@gmail.com</td>\n",
       "      <td>pass</td>\n",
       "    </tr>\n",
       "  </tbody>\n",
       "</table>\n",
       "</div>"
      ],
      "text/plain": [
       "  farmerName farmerAge farmerAddress farmerPhone    farmerEmail farmerPassword\n",
       "0       Ramm        23           402  9131706915  iii@gmail.com           pass"
      ]
     },
     "execution_count": 86,
     "metadata": {},
     "output_type": "execute_result"
    }
   ],
   "source": [
    "farmerDf.iloc[0].farmerName = \"Ramm\"\n",
    "farmerDf.append(farmerDf.iloc[0])\n",
    "farmerDf"
   ]
  },
  {
   "cell_type": "code",
   "execution_count": 75,
   "metadata": {},
   "outputs": [],
   "source": [
    "farmer_str = str(farmerDf.iloc[1])"
   ]
  },
  {
   "cell_type": "code",
   "execution_count": 76,
   "metadata": {},
   "outputs": [],
   "source": [
    "privateKey, publicKey = rsakeys()\n",
    "\n",
    "# message = farmerDf.iloc[0]\n",
    "message = farmer_str.encode()\n",
    "signature_id = sign(message, privateKey)\n",
    "# print(signature_id)"
   ]
  },
  {
   "cell_type": "code",
   "execution_count": 77,
   "metadata": {},
   "outputs": [
    {
     "name": "stdout",
     "output_type": "stream",
     "text": [
      "Valid Signature:  True\n"
     ]
    }
   ],
   "source": [
    "alt_msg = str(farmerDf.iloc[1]).encode()\n",
    "\n",
    "verify_res = verify(alt_msg, signature_id, publicKey)\n",
    "print(\"Valid Signature: \", verify_res)"
   ]
  },
  {
   "cell_type": "code",
   "execution_count": 78,
   "metadata": {},
   "outputs": [
    {
     "name": "stdout",
     "output_type": "stream",
     "text": [
      "Valid Signature:  False\n"
     ]
    }
   ],
   "source": [
    "alt_msg = str(farmerDf.iloc[0]).encode()\n",
    "\n",
    "verify_res = verify(alt_msg, signature_id, publicKey)\n",
    "print(\"Valid Signature: \", verify_res)"
   ]
  },
  {
   "cell_type": "code",
   "execution_count": null,
   "metadata": {},
   "outputs": [],
   "source": []
  },
  {
   "cell_type": "code",
   "execution_count": 16,
   "metadata": {},
   "outputs": [
    {
     "name": "stdout",
     "output_type": "stream",
     "text": [
      "Public key:  (n=0xd5ea51cafc7999853e14089bda5679f84dc0fc65c4e218db25ef65d79b0f7b41cf3ed7867cfafbdff402c27d39b674ddaf77b9120264f483aee7c95463b599a8f94c2f1c3cdbc78a1196a55094621164e08a9bfda8e0acd869da227f52c13b1879f7a803c6de335055778a63540538fdda5bcc7a5a2d81738209b11188c71a2b, e=0x10001)\n",
      "Private key: (n=0xd5ea51cafc7999853e14089bda5679f84dc0fc65c4e218db25ef65d79b0f7b41cf3ed7867cfafbdff402c27d39b674ddaf77b9120264f483aee7c95463b599a8f94c2f1c3cdbc78a1196a55094621164e08a9bfda8e0acd869da227f52c13b1879f7a803c6de335055778a63540538fdda5bcc7a5a2d81738209b11188c71a2b, d=0x391689b194639756f9d43adfed0afb0e0b221fb9c12b5ddace6aef50f4eed2c4235cf003d242e10949839b07f468ff13528aaef7617033d918ca7eee6895c465d8ded40a030b2c76b97cb32103bde75d1fbb20f609dcf4fa81eb1f948119a0348b0b2e9647c5ba0b4b12eaab80f621588fde030f0aaae9aff35297ca772e42d1)\n"
     ]
    }
   ],
   "source": [
    "keyPair = RSA.generate(bits=1024)\n",
    "print(f\"Public key:  (n={hex(keyPair.n)}, e={hex(keyPair.e)})\")\n",
    "print(f\"Private key: (n={hex(keyPair.n)}, d={hex(keyPair.d)})\")"
   ]
  },
  {
   "cell_type": "code",
   "execution_count": null,
   "metadata": {},
   "outputs": [],
   "source": []
  }
 ],
 "metadata": {
  "interpreter": {
   "hash": "9c58b646aea2539fef524766948474fff33601e3daf6b018c86c6a419d65c072"
  },
  "kernelspec": {
   "display_name": "Python 3.9.4 64-bit ('blockchainVenv': venv)",
   "language": "python",
   "name": "python3"
  },
  "language_info": {
   "codemirror_mode": {
    "name": "ipython",
    "version": 3
   },
   "file_extension": ".py",
   "mimetype": "text/x-python",
   "name": "python",
   "nbconvert_exporter": "python",
   "pygments_lexer": "ipython3",
   "version": "3.9.4"
  },
  "orig_nbformat": 4
 },
 "nbformat": 4,
 "nbformat_minor": 2
}
